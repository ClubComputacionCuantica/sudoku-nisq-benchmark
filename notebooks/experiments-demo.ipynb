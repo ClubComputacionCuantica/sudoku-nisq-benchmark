{
 "cells": [
  {
   "cell_type": "markdown",
   "id": "0fcd9b01",
   "metadata": {},
   "source": [
    "# ExperimentRunner Demo: Bulk Experimentation\n",
    "\n",
    "The `ExperimentRunner` enables systematic benchmarking across multiple parameters. Let's run a small batch experiment.\n",
    "\n",
    "For transpiling to quantum hardware, we need to initialize backends first. Let's set up IBM Quantum access."
   ]
  },
  {
   "cell_type": "markdown",
   "id": "81597f20",
   "metadata": {},
   "source": [
    "### How to Get IBM Credentials\n",
    "\n",
    "To transpile to, or use real IBM Quantum hardware:\n",
    "\n",
    "1. **Sign up** at [IBM Quantum Platform](https://quantum-computing.ibm.com/)\n",
    "2. **Create an instance CRN** you currently need to setup a Pay-As-Yo-Go account at least\n",
    "3. **Get your API token** directly from IBM Quantum Platform\n",
    "4. **Choose a device** like `ibm_brisbane`, `ibm_torino`, etc."
   ]
  },
  {
   "cell_type": "code",
   "execution_count": null,
   "id": "5c291c0e",
   "metadata": {},
   "outputs": [
    {
     "name": "stdout",
     "output_type": "stream",
     "text": [
      "IBM authentication successful\n",
      "Found 6 IBM devices available to your account\n",
      "Available devices: ['ibm_brisbane', 'ibm_fez', 'ibm_sherbrooke', 'ibm_torino', 'ibm_marrakesh', 'ibm_kingston']\n"
     ]
    },
    {
     "data": {
      "text/plain": [
       "['ibm_brisbane',\n",
       " 'ibm_fez',\n",
       " 'ibm_sherbrooke',\n",
       " 'ibm_torino',\n",
       " 'ibm_marrakesh',\n",
       " 'ibm_kingston']"
      ]
     },
     "execution_count": 1,
     "metadata": {},
     "output_type": "execute_result"
    }
   ],
   "source": [
    "# Import the BackendManager for hardware backends\n",
    "from sudoku_nisq.backends import BackendManager\n",
    "\n",
    "# Initialize IBM Quantum backend\n",
    "# Note: Replace with your actual IBM API token and instance\n",
    "# For demo purposes, we'll show the initialization code but comment it out\n",
    "\n",
    "# Modify these lines with your credentials:\n",
    "api_token = \"your_ibm_api_token_here\"\n",
    "instance = \"crn:v1:bluemix:public:quantum-computing:us-east:a/your_instance_id\"\n",
    "\n",
    "BackendManager.authenticate_ibm(\n",
    "    api_token=api_token,\n",
    "    instance=instance\n",
    "    )"
   ]
  },
  {
   "cell_type": "code",
   "execution_count": 2,
   "id": "da308398",
   "metadata": {},
   "outputs": [
    {
     "name": "stdout",
     "output_type": "stream",
     "text": [
      "Registered backends: ['ibm_torino', 'ibm_brisbane']\n"
     ]
    }
   ],
   "source": [
    "# Add backends from available devices\n",
    "\n",
    "BackendManager.add_ibm_device(device=\"ibm_torino\", alias=\"ibm_torino\")\n",
    "BackendManager.add_ibm_device(device=\"ibm_brisbane\", alias=\"ibm_brisbane\")\n",
    "\n",
    "# Check registered backends\n",
    "available_backends = BackendManager.aliases()\n",
    "print(f\"Registered backends: {available_backends}\")"
   ]
  },
  {
   "cell_type": "markdown",
   "id": "87792a1e",
   "metadata": {},
   "source": [
    "You can also `BackendManager.init_ibm()` method handles both authentication and device registration in one step. Once initialized, you can access the backend anywhere in your code using `BackendManager.get(\"ibm_brisbane\")`."
   ]
  },
  {
   "cell_type": "code",
   "execution_count": 3,
   "id": "6ec2aa35",
   "metadata": {},
   "outputs": [
    {
     "name": "stdout",
     "output_type": "stream",
     "text": [
      "Loaded seen index with 3 puzzle hashes\n",
      "Starting experiment batch:\n",
      "   • 1 solvers × 2 encodings\n",
      "   • 2 backends × 2 optimization levels\n",
      "   • 2 total puzzles\n",
      "   • Cache: demo_cache\n",
      "\n",
      "[1/2] Processing puzzle: 4×4, 2 missing, sample 1\n",
      "Puzzle hash: 1d2d15a6...\n",
      "ExactCoverQuantumSolver (simple)\n",
      "Building circuit...\n",
      "Circuit built in 0.05s\n",
      "Transpiling ibm_torino (opt=0)...\n",
      "Completed in 1.77s\n",
      "Transpiling ibm_torino (opt=1)...\n",
      "Completed in 1.53s\n",
      "Transpiling ibm_brisbane (opt=0)...\n",
      "Completed in 1.41s\n",
      "Transpiling ibm_brisbane (opt=1)...\n",
      "Completed in 2.54s\n",
      "ExactCoverQuantumSolver (pattern)\n",
      "Building circuit...\n",
      "Circuit built in 0.05s\n",
      "Transpiling ibm_torino (opt=0)...\n",
      "Completed in 0.33s\n",
      "Transpiling ibm_torino (opt=1)...\n",
      "Completed in 1.18s\n",
      "Transpiling ibm_brisbane (opt=0)...\n",
      "Completed in 0.31s\n",
      "Transpiling ibm_brisbane (opt=1)...\n",
      "Completed in 2.96s\n",
      "[2/2] Processing puzzle: 4×4, 2 missing, sample 2\n",
      "Puzzle hash: 2e0d300c...\n",
      "ExactCoverQuantumSolver (simple)\n",
      "Building circuit...\n",
      "Circuit built in 0.08s\n",
      "Transpiling ibm_torino (opt=0)...\n",
      "Completed in 2.17s\n",
      "Transpiling ibm_torino (opt=1)...\n",
      "Completed in 2.40s\n",
      "Transpiling ibm_brisbane (opt=0)...\n",
      "Completed in 1.87s\n",
      "Transpiling ibm_brisbane (opt=1)...\n",
      "Completed in 2.23s\n",
      "ExactCoverQuantumSolver (pattern)\n",
      "Building circuit...\n",
      "Circuit built in 0.06s\n",
      "Transpiling ibm_torino (opt=0)...\n",
      "Completed in 2.38s\n",
      "Transpiling ibm_torino (opt=1)...\n",
      "Completed in 2.43s\n",
      "Transpiling ibm_brisbane (opt=0)...\n",
      "Completed in 2.01s\n",
      "Transpiling ibm_brisbane (opt=1)...\n",
      "Completed in 2.25s\n",
      "Experiment batch completed successfully!\n"
     ]
    }
   ],
   "source": [
    "# Run a small batch experiment\n",
    "# This will test ExactCoverQuantumSolver on the two backends, with 2 optimisation levels,\n",
    "# with 2 encodings on 2 different puzzle difficulties, with 2 samples each\n",
    "\n",
    "# Import solver class and experiment runner\n",
    "from sudoku_nisq.exact_cover_solver import ExactCoverQuantumSolver\n",
    "from sudoku_nisq.experiment_runner import ExperimentRunner\n",
    "\n",
    "# Define solver configuration\n",
    "solvers_config = {\n",
    "    ExactCoverQuantumSolver: [\"simple\", \"pattern\"]\n",
    "}\n",
    "\n",
    "# Since we already authenticated backends above, we can just reference them by alias\n",
    "\n",
    "# Create experiment runner with small parameters for demo\n",
    "runner = ExperimentRunner(\n",
    "    solvers=list(solvers_config.keys()),\n",
    "    encodings_map=solvers_config,\n",
    "    backends=[\"ibm_torino\", \"ibm_brisbane\"],  # These must be registered in BackendManager\n",
    "    opt_levels=[0, 1],\n",
    "    subgrid_sizes=[2],  # Only 4x4 puzzles for demo\n",
    "    num_missing_vals=[2],  # Two difficulty levels\n",
    "    samples_per_combo=2,  # 2 samples per combination\n",
    "    cache_base=\"./demo_cache\",\n",
    "    canonicalize=True,\n",
    "    cache_transpiled=False\n",
    ")\n",
    "\n",
    "runner.run_batch()"
   ]
  }
 ],
 "metadata": {
  "kernelspec": {
   "display_name": "sudoku-nisq-benchmark-2SsA3Mjc-py3.10",
   "language": "python",
   "name": "python3"
  },
  "language_info": {
   "codemirror_mode": {
    "name": "ipython",
    "version": 3
   },
   "file_extension": ".py",
   "mimetype": "text/x-python",
   "name": "python",
   "nbconvert_exporter": "python",
   "pygments_lexer": "ipython3",
   "version": "3.10.12"
  }
 },
 "nbformat": 4,
 "nbformat_minor": 5
}
