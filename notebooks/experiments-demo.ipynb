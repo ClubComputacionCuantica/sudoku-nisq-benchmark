{
 "cells": [
  {
   "cell_type": "markdown",
   "id": "0fcd9b01",
   "metadata": {},
   "source": [
    "# ExperimentRunner Demo: Bulk Experimentation\n",
    "\n",
    "The `ExperimentRunner` enables systematic benchmarking across multiple parameters. Let's run a small batch experiment.\n",
    "\n",
    "For transpiling to quantum hardware, we need to initialize backends first. Let's set up IBM Quantum access."
   ]
  },
  {
   "cell_type": "markdown",
   "id": "81597f20",
   "metadata": {},
   "source": [
    "### How to Get IBM Credentials\n",
    "\n",
    "To transpile to, or use real IBM Quantum hardware:\n",
    "\n",
    "1. **Sign up** at [IBM Quantum Platform](https://quantum-computing.ibm.com/)\n",
    "2. **Create an instance CRN** you currently need to setup a Pay-As-Yo-Go account at least\n",
    "3. **Get your API token** directly from IBM Quantum Platform\n",
    "4. **Choose a device** like `ibm_brisbane`, `ibm_torino`, etc."
   ]
  },
  {
   "cell_type": "code",
   "execution_count": 1,
   "id": "5c291c0e",
   "metadata": {},
   "outputs": [
    {
     "name": "stdout",
     "output_type": "stream",
     "text": [
      "IBM authentication successful\n",
      "Found 6 IBM devices available to your account\n",
      "Available devices: ['ibm_brisbane', 'ibm_fez', 'ibm_sherbrooke', 'ibm_torino', 'ibm_marrakesh', 'ibm_kingston']\n"
     ]
    },
    {
     "data": {
      "text/plain": [
       "['ibm_brisbane',\n",
       " 'ibm_fez',\n",
       " 'ibm_sherbrooke',\n",
       " 'ibm_torino',\n",
       " 'ibm_marrakesh',\n",
       " 'ibm_kingston']"
      ]
     },
     "execution_count": 1,
     "metadata": {},
     "output_type": "execute_result"
    }
   ],
   "source": [
    "# Import the BackendManager for hardware backends\n",
    "from sudoku_nisq.backends import BackendManager\n",
    "\n",
    "# Initialize IBM Quantum backend\n",
    "# Note: Replace with your actual IBM API token and instance\n",
    "# For demo purposes, we'll show the initialization code but comment it out\n",
    "\n",
    "# Modify these lines with your credentials:\n",
    "# api_token = \"your_ibm_api_token_here\"\n",
    "# instance = \"crn:v1:bluemix:public:quantum-computing:us-east:a/your_instance_id\"\n",
    "\n",
    "api_token = \"MgUA1d64SPwFrqy-C1FnFYUY7lQG4B2F1k0xie5bUcW5\"\n",
    "instance = \"crn:v1:bluemix:public:quantum-computing:us-east:a/53bccd1b6f1943a486285adb9d2dfa3f:c8244fef-9afe-428a-8e1a-08a6a03e61e9::\"\n",
    "\n",
    "BackendManager.authenticate_ibm(\n",
    "    api_token=api_token,\n",
    "    instance=instance\n",
    "    )"
   ]
  },
  {
   "cell_type": "code",
   "execution_count": 2,
   "id": "da308398",
   "metadata": {},
   "outputs": [
    {
     "name": "stdout",
     "output_type": "stream",
     "text": [
      "Registered backends: ['ibm_torino', 'ibm_brisbane']\n"
     ]
    }
   ],
   "source": [
    "# Add backends from available devices\n",
    "\n",
    "BackendManager.add_ibm_device(device=\"ibm_torino\", alias=\"ibm_torino\")\n",
    "BackendManager.add_ibm_device(device=\"ibm_brisbane\", alias=\"ibm_brisbane\")\n",
    "\n",
    "# Check registered backends\n",
    "available_backends = BackendManager.aliases()\n",
    "print(f\"Registered backends: {available_backends}\")"
   ]
  },
  {
   "cell_type": "markdown",
   "id": "87792a1e",
   "metadata": {},
   "source": [
    "You can also `BackendManager.init_ibm()` method handles both authentication and device registration in one step. Once initialized, you can access the backend anywhere in your code using `BackendManager.get(\"ibm_brisbane\")`."
   ]
  },
  {
   "cell_type": "code",
   "execution_count": null,
   "id": "aa525d6c",
   "metadata": {},
   "outputs": [
    {
     "name": "stdout",
     "output_type": "stream",
     "text": [
      "Loaded 6 seen hashes from demo_experiment.csv\n",
      "Starting batch: 40 total CSV rows\n",
      "CSV output: demo_experiment.csv\n",
      "Cache base: .demo_cache\n",
      "Progress: 4/40 CSV rows (10.0%) - Memory: 368.0 MB\n",
      "Completed ExactCoverQuantumSolver with encoding 'simple' for puzzle b4175580439197c732c261fcda5d4a30e25e92827f7d89febd72572ad461516e\n",
      "Progress: 8/40 CSV rows (20.0%) - Memory: 373.8 MB\n",
      "Completed ExactCoverQuantumSolver with encoding 'pattern' for puzzle b4175580439197c732c261fcda5d4a30e25e92827f7d89febd72572ad461516e\n",
      "Memory after puzzle cleanup: 377.3 MB\n",
      "Progress: 12/40 CSV rows (30.0%) - Memory: 383.9 MB\n",
      "Completed ExactCoverQuantumSolver with encoding 'simple' for puzzle f93b980f17f82265a8c922b15510f9e21cd136773f0770bbb8e2c4dee37c9284\n",
      "Progress: 16/40 CSV rows (40.0%) - Memory: 390.8 MB\n",
      "Progress: 20/40 CSV rows (50.0%) - Memory: 400.1 MB\n",
      "Completed ExactCoverQuantumSolver with encoding 'pattern' for puzzle f93b980f17f82265a8c922b15510f9e21cd136773f0770bbb8e2c4dee37c9284\n",
      "Memory after puzzle cleanup: 400.1 MB\n"
     ]
    }
   ],
   "source": [
    "# Import the convenience function for batch experiments\n",
    "from sudoku_nisq import run_experiment_batch\n",
    "\n",
    "# Run a small batch experiment\n",
    "# This will test ExactCoverQuantumSolver on the two backends, with 2 optimisation levels,\n",
    "# with 2 encodings on 2 different puzzle difficulties, with 2 samples each\n",
    "\n",
    "# Import solver class\n",
    "from sudoku_nisq.exact_cover_solver import ExactCoverQuantumSolver\n",
    "\n",
    "# Define the backends to test\n",
    "backends_to_test = [\"ibm_brisbane\", \"ibm_torino\"]\n",
    "\n",
    "csv_path = run_experiment_batch(\n",
    "    solvers_config={\n",
    "        ExactCoverQuantumSolver: [\"simple\", \"pattern\"]  # 2 encodings\n",
    "    },\n",
    "    backends=backends_to_test,\n",
    "    opt_levels=[0, 1],          # Test with optimization levels 0 and 1\n",
    "    puzzle_sizes=[2],        # 4x4 puzzles only\n",
    "    missing_cells=[2,4],      # 2 to 4 missing cells\n",
    "    samples_per_combo=2,     # 1 puzzle samples per combination\n",
    "    canonicalize=True,  # Canonicalize puzzles\n",
    "    show_progress=True,  # Show real-time progress\n",
    "    csv_path=\"demo_experiment.csv\",\n",
    "    cache_base=\"./.demo_cache\",\n",
    "    cache_transpiled=True,\n",
    "    progress_interval=4  # Update progress every 4 rows\n",
    ")\n",
    "\n",
    "print(f\"\\nExperiment completed! Results saved to: {csv_path}\")"
   ]
  },
  {
   "cell_type": "code",
   "execution_count": null,
   "id": "bf38ce93",
   "metadata": {},
   "outputs": [],
   "source": [
    "# Let's examine the results\n",
    "import pandas as pd\n",
    "import os\n",
    "\n",
    "if os.path.exists(\"demo_experiment.csv\"):\n",
    "    df = pd.read_csv(\"demo_experiment.csv\")\n",
    "    \n",
    "    print(f\"Experiment generated {len(df)} CSV rows\")\n",
    "    print(f\"Columns: {list(df.columns)}\")\n",
    "    \n",
    "    print(\"\\nBreakdown by solver and encoding:\")\n",
    "    breakdown = df.groupby(['solver_name', 'encoding']).size()\n",
    "    print(breakdown)\n",
    "    \n",
    "    print(\"\\nSample of circuit resources:\")\n",
    "    resource_cols = ['main_n_qubits', 'main_n_gates', 'main_depth']\n",
    "    available_cols = [col for col in resource_cols if col in df.columns]\n",
    "    if available_cols:\n",
    "        print(df[['solver_name', 'encoding'] + available_cols].head())\n",
    "    \n",
    "    print(\"\\nAny errors encountered:\")\n",
    "    if 'error' in df.columns:\n",
    "        errors = df[df['error'].notna()]\n",
    "        if len(errors) > 0:\n",
    "            print(f\"Found {len(errors)} errors\")\n",
    "            print(errors[['solver_name', 'encoding', 'error']].head())\n",
    "        else:\n",
    "            print(\"No errors found - all experiments succeeded!\")\n",
    "    \n",
    "else:\n",
    "    print(\"CSV file not found - experiment may not have completed\")"
   ]
  },
  {
   "cell_type": "markdown",
   "id": "8fcebe80",
   "metadata": {},
   "source": [
    "## What Just Happened?\n",
    "\n",
    "The `ExperimentRunner` systematically tested:\n",
    "\n",
    "- **2 solver encodings** (simple, pattern)\n",
    "- **2 puzzle difficulties** (3 and 5 missing cells)  \n",
    "- **2 samples per combination** (for statistical reliability)\n",
    "- **1 backend** (simulator)\n",
    "\n",
    "This generated **8 total CSV rows**:\n",
    "- 4 puzzles × 2 encodings × 1 main circuit row each = 8 rows\n",
    "\n",
    "Each row contains:\n",
    "- Puzzle metadata (size, missing cells, hash)\n",
    "- Solver configuration (name, encoding) \n",
    "- Circuit resources (qubits, gates, depth)\n",
    "- Any errors encountered\n",
    "\n",
    "## Key Benefits\n",
    "\n",
    "1. **Systematic**: Tests all parameter combinations\n",
    "2. **Robust**: Continues even if individual experiments fail\n",
    "3. **Comprehensive**: Logs everything to CSV for analysis\n",
    "4. **Memory-safe**: Automatic cleanup prevents memory leaks\n",
    "5. **Progress tracking**: Real-time updates during long runs"
   ]
  }
 ],
 "metadata": {
  "kernelspec": {
   "display_name": "sudoku-nisq-benchmark-ZK-5IsAG-py3.10",
   "language": "python",
   "name": "python3"
  },
  "language_info": {
   "codemirror_mode": {
    "name": "ipython",
    "version": 3
   },
   "file_extension": ".py",
   "mimetype": "text/x-python",
   "name": "python",
   "nbconvert_exporter": "python",
   "pygments_lexer": "ipython3",
   "version": "3.10.12"
  }
 },
 "nbformat": 4,
 "nbformat_minor": 5
}
