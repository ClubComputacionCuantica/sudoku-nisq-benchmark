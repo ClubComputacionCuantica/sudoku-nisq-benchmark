{
 "cells": [
  {
   "cell_type": "markdown",
   "id": "593190da",
   "metadata": {},
   "source": [
    "# QSudoku Demo: Basic Workflow\n",
    "\n",
    "This notebook demonstrates the basic workflow of the quantum Sudoku solving framework, focusing on the `QSudoku` master class and `ExactCoverQuantumSolver`.\n",
    "\n",
    "## Basic Workflow Steps:\n",
    "1. **Puzzle Creation** - Generate or load a Sudoku puzzle\n",
    "2. **Solver Setup** - Configure the quantum solving algorithm  \n",
    "3. **Circuit Building** - Build the quantum circuit\n",
    "4. **Backend Setup** - Configure simulator or real hardware\n",
    "5. **Execution** - Run the quantum algorithm"
   ]
  },
  {
   "cell_type": "code",
   "execution_count": 15,
   "id": "0d224f0c",
   "metadata": {},
   "outputs": [],
   "source": [
    "# Import the main QSudoku class and ExactCoverQuantumSolver\n",
    "from sudoku_nisq import QSudoku\n",
    "from sudoku_nisq.exact_cover_solver import ExactCoverQuantumSolver"
   ]
  },
  {
   "cell_type": "markdown",
   "id": "ddff8c37",
   "metadata": {},
   "source": [
    "## Step 1: Puzzle Creation\n",
    "\n",
    "Let's generate a simple 4x4 Sudoku puzzle with some missing cells."
   ]
  },
  {
   "cell_type": "code",
   "execution_count": 16,
   "id": "9f1706d7",
   "metadata": {},
   "outputs": [
    {
     "name": "stdout",
     "output_type": "stream",
     "text": [
      "Generated puzzle:\n",
      "Size: 4x4\n",
      "Missing cells: 2\n",
      "Puzzle hash: 419adf0090ffc88d4293a60a37a16918a8ea2ae9137548d3d5f8b0cc029e38fe\n",
      "Puzzle board: [[0, 4, 3, 1], [3, 1, 2, 4], [1, 3, 4, 2], [4, 2, 1, 0]]\n"
     ]
    },
    {
     "data": {
      "image/png": "[encoded data removed]",
      "text/plain": [
       "<Figure size 600x600 with 1 Axes>"
      ]
     },
     "execution_count": 16,
     "metadata": {},
     "output_type": "execute_result"
    }
   ],
   "source": [
    "# Generate a 4x4 Sudoku puzzle with 6 missing cells\n",
    "# subgrid_size=2 means 2x2 subgrids, creating a 4x4 puzzle\n",
    "puzzle = QSudoku.generate(subgrid_size=2, num_missing_cells=2)\n",
    "\n",
    "print(f\"Generated puzzle:\")\n",
    "print(f\"Size: {puzzle.board_size}x{puzzle.board_size}\")\n",
    "print(f\"Missing cells: {puzzle.num_missing_cells}\")\n",
    "print(f\"Puzzle hash: {puzzle.get_hash()}\")\n",
    "print(f\"Puzzle board: {puzzle.board}\")\n",
    "puzzle.plot()"
   ]
  },
  {
   "cell_type": "markdown",
   "id": "035a90b0",
   "metadata": {},
   "source": [
    "## Step 2: Solver Setup\n",
    "\n",
    "Now we'll configure the quantum solving algorithm. We'll use the `ExactCoverQuantumSolver` with the \"simple\" encoding."
   ]
  },
  {
   "cell_type": "code",
   "execution_count": 17,
   "id": "87381d3d",
   "metadata": {},
   "outputs": [
    {
     "name": "stdout",
     "output_type": "stream",
     "text": [
      "Solver configured:\n",
      "Solver class: ExactCoverQuantumSolver\n",
      "Encoding: simple\n",
      "Active solver: True\n"
     ]
    }
   ],
   "source": [
    "# Set the quantum solving algorithm\n",
    "puzzle.set_solver(ExactCoverQuantumSolver, encoding=\"simple\")\n",
    "\n",
    "print(\"Solver configured:\")\n",
    "print(f\"Solver class: {type(puzzle._solver).__name__}\")\n",
    "print(f\"Encoding: {puzzle._solver.encoding}\")\n",
    "print(f\"Active solver: {puzzle._solver is not None}\")"
   ]
  },
  {
   "cell_type": "markdown",
   "id": "bdf36c9a",
   "metadata": {},
   "source": [
    "## Step 3: Circuit Building\n",
    "\n",
    "Build the quantum circuit that implements the exact cover algorithm for our puzzle."
   ]
  },
  {
   "cell_type": "code",
   "execution_count": 18,
   "id": "76829b9b",
   "metadata": {},
   "outputs": [
    {
     "name": "stdout",
     "output_type": "stream",
     "text": [
      "Circuit built successfully!\n",
      "\n",
      "Circuit summary:\n",
      "Circuit qubits: 11\n",
      "Circuit gates: 32\n",
      "Circuit depth: 16\n"
     ]
    }
   ],
   "source": [
    "# Build the quantum circuit for the puzzle\n",
    "circuit = puzzle.build_circuit()\n",
    "\n",
    "print(\"Circuit built successfully!\")\n",
    "\n",
    "# Show basic circuit info\n",
    "print(f\"\\nCircuit summary:\")\n",
    "print(f\"Circuit qubits: {circuit.n_qubits}\")\n",
    "print(f\"Circuit gates: {circuit.n_gates}\")\n",
    "print(f\"Circuit depth: {circuit.depth()}\")"
   ]
  },
  {
   "cell_type": "markdown",
   "id": "21209501",
   "metadata": {},
   "source": [
    "## Step 4: Backend Setup\n",
    "\n",
    "We'll use the Aer simulator for this demo. For real hardware, you would need to configure IBM Quantum or other backend providers."
   ]
  },
  {
   "cell_type": "code",
   "execution_count": 21,
   "id": "58dc50a3",
   "metadata": {},
   "outputs": [
    {
     "data": {
      "text/plain": [
       "BackendResult(q_bits={},c_bits={c[0]: 0, c[1]: 1},counts=None,shots=[[192]\n",
       " [192]\n",
       " [192]\n",
       " ...\n",
       " [192]\n",
       " [192]\n",
       " [192]],state=None,unitary=None,density_matrix=None)"
      ]
     },
     "execution_count": 21,
     "metadata": {},
     "output_type": "execute_result"
    }
   ],
   "source": [
    "# Run on the Aer simulator\n",
    "puzzle.run_aer(shots=1024)\n",
    "\n"
   ]
  },
  {
   "cell_type": "markdown",
   "id": "4d14900b",
   "metadata": {},
   "source": [
    "## Summary\n",
    "\n",
    "We've successfully demonstrated the basic QSudoku workflow:\n",
    "\n",
    "1. ✅ **Generated** a 4x4 Sudoku puzzle\n",
    "2. ✅ **Configured** the ExactCoverQuantumSolver\n",
    "3. ✅ **Built** the quantum circuit\n",
    "4. ✅ **Executed** on the Aer simulator\n",
    "\n",
    "The framework automatically handles:\n",
    "- Circuit caching and optimization\n",
    "- Error handling and validation  \n",
    "- Metadata collection and logging\n",
    "- Memory management\n",
    "\n",
    "Next, we can explore the `ExperimentRunner` for bulk experimentation!"
   ]
  },
  {
   "cell_type": "markdown",
   "id": "55cf2fa6",
   "metadata": {},
   "source": [
    "# ExperimentRunner Demo: Bulk Experimentation\n",
    "\n",
    "The `ExperimentRunner` enables systematic benchmarking across multiple parameters. Let's run a small batch experiment."
   ]
  },
  {
   "cell_type": "code",
   "execution_count": 20,
   "id": "a01deae0",
   "metadata": {},
   "outputs": [
    {
     "name": "stdout",
     "output_type": "stream",
     "text": [
      "Starting small batch experiment...\n"
     ]
    },
    {
     "ename": "ValueError",
     "evalue": "Backend 'simulator' not found in BackendManager. Available backends: []",
     "output_type": "error",
     "traceback": [
      "\u001b[0;31m---------------------------------------------------------------------------\u001b[0m",
      "\u001b[0;31mValueError\u001b[0m                                Traceback (most recent call last)",
      "File \u001b[0;32m/mnt/d/Users/vor/sudoku-nisq-benchmark-article/src/sudoku_nisq/experiment_runner.py:88\u001b[0m, in \u001b[0;36mExperimentRunner._validate_backends\u001b[0;34m(self)\u001b[0m\n\u001b[1;32m     87\u001b[0m \u001b[38;5;28;01mtry\u001b[39;00m:\n\u001b[0;32m---> 88\u001b[0m     \u001b[43mBackendManager\u001b[49m\u001b[38;5;241;43m.\u001b[39;49m\u001b[43mget\u001b[49m\u001b[43m(\u001b[49m\u001b[43malias\u001b[49m\u001b[43m)\u001b[49m\n\u001b[1;32m     89\u001b[0m \u001b[38;5;28;01mexcept\u001b[39;00m \u001b[38;5;167;01mValueError\u001b[39;00m \u001b[38;5;28;01mas\u001b[39;00m e:\n",
      "File \u001b[0;32m/mnt/d/Users/vor/sudoku-nisq-benchmark-article/src/sudoku_nisq/backends.py:230\u001b[0m, in \u001b[0;36mBackendManager.get\u001b[0;34m(cls, alias)\u001b[0m\n\u001b[1;32m    229\u001b[0m \u001b[38;5;28;01mif\u001b[39;00m \u001b[38;5;129;01mnot\u001b[39;00m available:\n\u001b[0;32m--> 230\u001b[0m     \u001b[38;5;28;01mraise\u001b[39;00m \u001b[38;5;167;01mValueError\u001b[39;00m(\u001b[38;5;124mf\u001b[39m\u001b[38;5;124m\"\u001b[39m\u001b[38;5;124mBackend \u001b[39m\u001b[38;5;124m'\u001b[39m\u001b[38;5;132;01m{\u001b[39;00malias\u001b[38;5;132;01m}\u001b[39;00m\u001b[38;5;124m'\u001b[39m\u001b[38;5;124m not found. No backends registered yet. \u001b[39m\u001b[38;5;124m\"\u001b[39m\n\u001b[1;32m    231\u001b[0m                    \u001b[38;5;124mf\u001b[39m\u001b[38;5;124m\"\u001b[39m\u001b[38;5;124mCall init_ibm() or init_quantinuum() first.\u001b[39m\u001b[38;5;124m\"\u001b[39m)\n\u001b[1;32m    232\u001b[0m \u001b[38;5;28;01melse\u001b[39;00m:\n",
      "\u001b[0;31mValueError\u001b[0m: Backend 'simulator' not found. No backends registered yet. Call init_ibm() or init_quantinuum() first.",
      "\nThe above exception was the direct cause of the following exception:\n",
      "\u001b[0;31mValueError\u001b[0m                                Traceback (most recent call last)",
      "Cell \u001b[0;32mIn[20], line 9\u001b[0m\n\u001b[1;32m      4\u001b[0m \u001b[38;5;66;03m# Run a small batch experiment\u001b[39;00m\n\u001b[1;32m      5\u001b[0m \u001b[38;5;66;03m# This will test ExactCoverQuantumSolver with 2 encodings \u001b[39;00m\n\u001b[1;32m      6\u001b[0m \u001b[38;5;66;03m# on 2 different puzzle difficulties, with 2 samples each\u001b[39;00m\n\u001b[1;32m      7\u001b[0m \u001b[38;5;28mprint\u001b[39m(\u001b[38;5;124m\"\u001b[39m\u001b[38;5;124mStarting small batch experiment...\u001b[39m\u001b[38;5;124m\"\u001b[39m)\n\u001b[0;32m----> 9\u001b[0m csv_path \u001b[38;5;241m=\u001b[39m \u001b[43mrun_experiment_batch\u001b[49m\u001b[43m(\u001b[49m\n\u001b[1;32m     10\u001b[0m \u001b[43m    \u001b[49m\u001b[43msolvers_config\u001b[49m\u001b[38;5;241;43m=\u001b[39;49m\u001b[43m{\u001b[49m\n\u001b[1;32m     11\u001b[0m \u001b[43m        \u001b[49m\u001b[43mExactCoverQuantumSolver\u001b[49m\u001b[43m:\u001b[49m\u001b[43m \u001b[49m\u001b[43m[\u001b[49m\u001b[38;5;124;43m\"\u001b[39;49m\u001b[38;5;124;43msimple\u001b[39;49m\u001b[38;5;124;43m\"\u001b[39;49m\u001b[43m,\u001b[49m\u001b[43m \u001b[49m\u001b[38;5;124;43m\"\u001b[39;49m\u001b[38;5;124;43mpattern\u001b[39;49m\u001b[38;5;124;43m\"\u001b[39;49m\u001b[43m]\u001b[49m\u001b[43m  \u001b[49m\u001b[38;5;66;43;03m# 2 encodings\u001b[39;49;00m\n\u001b[1;32m     12\u001b[0m \u001b[43m    \u001b[49m\u001b[43m}\u001b[49m\u001b[43m,\u001b[49m\n\u001b[1;32m     13\u001b[0m \u001b[43m    \u001b[49m\u001b[43mbackends\u001b[49m\u001b[38;5;241;43m=\u001b[39;49m\u001b[43m[\u001b[49m\u001b[38;5;124;43m\"\u001b[39;49m\u001b[38;5;124;43msimulator\u001b[39;49m\u001b[38;5;124;43m\"\u001b[39;49m\u001b[43m]\u001b[49m\u001b[43m,\u001b[49m\u001b[43m  \u001b[49m\u001b[38;5;66;43;03m# Just simulator for demo\u001b[39;49;00m\n\u001b[1;32m     14\u001b[0m \u001b[43m    \u001b[49m\u001b[43mpuzzle_sizes\u001b[49m\u001b[38;5;241;43m=\u001b[39;49m\u001b[43m[\u001b[49m\u001b[38;5;241;43m2\u001b[39;49m\u001b[43m]\u001b[49m\u001b[43m,\u001b[49m\u001b[43m        \u001b[49m\u001b[38;5;66;43;03m# 4x4 puzzles only  \u001b[39;49;00m\n\u001b[1;32m     15\u001b[0m \u001b[43m    \u001b[49m\u001b[43mmissing_cells\u001b[49m\u001b[38;5;241;43m=\u001b[39;49m\u001b[43m[\u001b[49m\u001b[38;5;241;43m3\u001b[39;49m\u001b[43m,\u001b[49m\u001b[43m \u001b[49m\u001b[38;5;241;43m5\u001b[39;49m\u001b[43m]\u001b[49m\u001b[43m,\u001b[49m\u001b[43m    \u001b[49m\u001b[38;5;66;43;03m# 2 difficulty levels\u001b[39;49;00m\n\u001b[1;32m     16\u001b[0m \u001b[43m    \u001b[49m\u001b[43msamples_per_combo\u001b[49m\u001b[38;5;241;43m=\u001b[39;49m\u001b[38;5;241;43m2\u001b[39;49m\u001b[43m,\u001b[49m\u001b[43m     \u001b[49m\u001b[38;5;66;43;03m# 2 puzzle samples per combination\u001b[39;49;00m\n\u001b[1;32m     17\u001b[0m \u001b[43m    \u001b[49m\u001b[43mcsv_path\u001b[49m\u001b[38;5;241;43m=\u001b[39;49m\u001b[38;5;124;43m\"\u001b[39;49m\u001b[38;5;124;43mdemo_experiment.csv\u001b[39;49m\u001b[38;5;124;43m\"\u001b[39;49m\u001b[43m,\u001b[49m\n\u001b[1;32m     18\u001b[0m \u001b[43m    \u001b[49m\u001b[43mcache_base\u001b[49m\u001b[38;5;241;43m=\u001b[39;49m\u001b[38;5;124;43m\"\u001b[39;49m\u001b[38;5;124;43m./demo_cache\u001b[39;49m\u001b[38;5;124;43m\"\u001b[39;49m\n\u001b[1;32m     19\u001b[0m \u001b[43m)\u001b[49m\n\u001b[1;32m     21\u001b[0m \u001b[38;5;28mprint\u001b[39m(\u001b[38;5;124mf\u001b[39m\u001b[38;5;124m\"\u001b[39m\u001b[38;5;130;01m\\n\u001b[39;00m\u001b[38;5;124mExperiment completed! Results saved to: \u001b[39m\u001b[38;5;132;01m{\u001b[39;00mcsv_path\u001b[38;5;132;01m}\u001b[39;00m\u001b[38;5;124m\"\u001b[39m)\n",
      "File \u001b[0;32m/mnt/d/Users/vor/sudoku-nisq-benchmark-article/src/sudoku_nisq/experiment_runner.py:257\u001b[0m, in \u001b[0;36mrun_experiment_batch\u001b[0;34m(solvers_config, backends, csv_path, cache_base, puzzle_sizes, missing_cells, samples_per_combo, opt_levels, **kwargs)\u001b[0m\n\u001b[1;32m    230\u001b[0m \u001b[38;5;28;01mdef\u001b[39;00m\u001b[38;5;250m \u001b[39m\u001b[38;5;21mrun_experiment_batch\u001b[39m(\n\u001b[1;32m    231\u001b[0m     solvers_config: Dict[Type[QuantumSolver], List[\u001b[38;5;28mstr\u001b[39m]],\n\u001b[1;32m    232\u001b[0m     backends: List[\u001b[38;5;28mstr\u001b[39m],\n\u001b[0;32m   (...)\u001b[0m\n\u001b[1;32m    239\u001b[0m     \u001b[38;5;241m*\u001b[39m\u001b[38;5;241m*\u001b[39mkwargs\n\u001b[1;32m    240\u001b[0m ) \u001b[38;5;241m-\u001b[39m\u001b[38;5;241m>\u001b[39m Path:\n\u001b[1;32m    241\u001b[0m \u001b[38;5;250m    \u001b[39m\u001b[38;5;124;03m\"\"\"Convenience function to run a batch of experiments.\u001b[39;00m\n\u001b[1;32m    242\u001b[0m \u001b[38;5;124;03m    \u001b[39;00m\n\u001b[1;32m    243\u001b[0m \u001b[38;5;124;03m    Args:\u001b[39;00m\n\u001b[0;32m   (...)\u001b[0m\n\u001b[1;32m    255\u001b[0m \u001b[38;5;124;03m        Path to the generated CSV file\u001b[39;00m\n\u001b[1;32m    256\u001b[0m \u001b[38;5;124;03m    \"\"\"\u001b[39;00m\n\u001b[0;32m--> 257\u001b[0m     runner \u001b[38;5;241m=\u001b[39m \u001b[43mExperimentRunner\u001b[49m\u001b[43m(\u001b[49m\n\u001b[1;32m    258\u001b[0m \u001b[43m        \u001b[49m\u001b[43msolvers\u001b[49m\u001b[38;5;241;43m=\u001b[39;49m\u001b[38;5;28;43mlist\u001b[39;49m\u001b[43m(\u001b[49m\u001b[43msolvers_config\u001b[49m\u001b[38;5;241;43m.\u001b[39;49m\u001b[43mkeys\u001b[49m\u001b[43m(\u001b[49m\u001b[43m)\u001b[49m\u001b[43m)\u001b[49m\u001b[43m,\u001b[49m\n\u001b[1;32m    259\u001b[0m \u001b[43m        \u001b[49m\u001b[43mencodings_map\u001b[49m\u001b[38;5;241;43m=\u001b[39;49m\u001b[43msolvers_config\u001b[49m\u001b[43m,\u001b[49m\n\u001b[1;32m    260\u001b[0m \u001b[43m        \u001b[49m\u001b[43mbackends\u001b[49m\u001b[38;5;241;43m=\u001b[39;49m\u001b[43mbackends\u001b[49m\u001b[43m,\u001b[49m\n\u001b[1;32m    261\u001b[0m \u001b[43m        \u001b[49m\u001b[43mopt_levels\u001b[49m\u001b[38;5;241;43m=\u001b[39;49m\u001b[43mopt_levels\u001b[49m\u001b[43m,\u001b[49m\n\u001b[1;32m    262\u001b[0m \u001b[43m        \u001b[49m\u001b[43msubgrid_sizes\u001b[49m\u001b[38;5;241;43m=\u001b[39;49m\u001b[43mpuzzle_sizes\u001b[49m\u001b[43m,\u001b[49m\n\u001b[1;32m    263\u001b[0m \u001b[43m        \u001b[49m\u001b[43mnum_missing_vals\u001b[49m\u001b[38;5;241;43m=\u001b[39;49m\u001b[43mmissing_cells\u001b[49m\u001b[43m,\u001b[49m\n\u001b[1;32m    264\u001b[0m \u001b[43m        \u001b[49m\u001b[43msamples_per_combo\u001b[49m\u001b[38;5;241;43m=\u001b[39;49m\u001b[43msamples_per_combo\u001b[49m\u001b[43m,\u001b[49m\n\u001b[1;32m    265\u001b[0m \u001b[43m        \u001b[49m\u001b[43mcsv_path\u001b[49m\u001b[38;5;241;43m=\u001b[39;49m\u001b[43mcsv_path\u001b[49m\u001b[43m,\u001b[49m\n\u001b[1;32m    266\u001b[0m \u001b[43m        \u001b[49m\u001b[43mcache_base\u001b[49m\u001b[38;5;241;43m=\u001b[39;49m\u001b[43mcache_base\u001b[49m\u001b[43m,\u001b[49m\n\u001b[1;32m    267\u001b[0m \u001b[43m        \u001b[49m\u001b[38;5;241;43m*\u001b[39;49m\u001b[38;5;241;43m*\u001b[39;49m\u001b[43mkwargs\u001b[49m\n\u001b[1;32m    268\u001b[0m \u001b[43m    \u001b[49m\u001b[43m)\u001b[49m\n\u001b[1;32m    270\u001b[0m     runner\u001b[38;5;241m.\u001b[39mrun_batch()\n\u001b[1;32m    271\u001b[0m     \u001b[38;5;28;01mreturn\u001b[39;00m Path(csv_path)\n",
      "File \u001b[0;32m/mnt/d/Users/vor/sudoku-nisq-benchmark-article/src/sudoku_nisq/experiment_runner.py:82\u001b[0m, in \u001b[0;36mExperimentRunner.__init__\u001b[0;34m(self, solvers, encodings_map, backends, opt_levels, subgrid_sizes, num_missing_vals, samples_per_combo, csv_path, cache_base, canonicalize, cache_main, cache_transpiled, show_progress, progress_interval)\u001b[0m\n\u001b[1;32m     79\u001b[0m \u001b[38;5;28mself\u001b[39m\u001b[38;5;241m.\u001b[39m_total_experiments \u001b[38;5;241m=\u001b[39m \u001b[38;5;28mself\u001b[39m\u001b[38;5;241m.\u001b[39m_calculate_total()\n\u001b[1;32m     81\u001b[0m \u001b[38;5;66;03m# Validate backends upfront (fail-fast)\u001b[39;00m\n\u001b[0;32m---> 82\u001b[0m \u001b[38;5;28;43mself\u001b[39;49m\u001b[38;5;241;43m.\u001b[39;49m\u001b[43m_validate_backends\u001b[49m\u001b[43m(\u001b[49m\u001b[43m)\u001b[49m\n",
      "File \u001b[0;32m/mnt/d/Users/vor/sudoku-nisq-benchmark-article/src/sudoku_nisq/experiment_runner.py:91\u001b[0m, in \u001b[0;36mExperimentRunner._validate_backends\u001b[0;34m(self)\u001b[0m\n\u001b[1;32m     89\u001b[0m \u001b[38;5;28;01mexcept\u001b[39;00m \u001b[38;5;167;01mValueError\u001b[39;00m \u001b[38;5;28;01mas\u001b[39;00m e:\n\u001b[1;32m     90\u001b[0m     available \u001b[38;5;241m=\u001b[39m BackendManager\u001b[38;5;241m.\u001b[39maliases()\n\u001b[0;32m---> 91\u001b[0m     \u001b[38;5;28;01mraise\u001b[39;00m \u001b[38;5;167;01mValueError\u001b[39;00m(\n\u001b[1;32m     92\u001b[0m         \u001b[38;5;124mf\u001b[39m\u001b[38;5;124m\"\u001b[39m\u001b[38;5;124mBackend \u001b[39m\u001b[38;5;124m'\u001b[39m\u001b[38;5;132;01m{\u001b[39;00malias\u001b[38;5;132;01m}\u001b[39;00m\u001b[38;5;124m'\u001b[39m\u001b[38;5;124m not found in BackendManager. \u001b[39m\u001b[38;5;124m\"\u001b[39m\n\u001b[1;32m     93\u001b[0m         \u001b[38;5;124mf\u001b[39m\u001b[38;5;124m\"\u001b[39m\u001b[38;5;124mAvailable backends: \u001b[39m\u001b[38;5;132;01m{\u001b[39;00mavailable\u001b[38;5;132;01m}\u001b[39;00m\u001b[38;5;124m\"\u001b[39m\n\u001b[1;32m     94\u001b[0m     ) \u001b[38;5;28;01mfrom\u001b[39;00m\u001b[38;5;250m \u001b[39m\u001b[38;5;21;01me\u001b[39;00m\n",
      "\u001b[0;31mValueError\u001b[0m: Backend 'simulator' not found in BackendManager. Available backends: []"
     ]
    }
   ],
   "source": [
    "# Import the convenience function for batch experiments\n",
    "from sudoku_nisq import run_experiment_batch\n",
    "\n",
    "# Run a small batch experiment\n",
    "# This will test ExactCoverQuantumSolver with 2 encodings \n",
    "# on 2 different puzzle difficulties, with 2 samples each\n",
    "print(\"Starting small batch experiment...\")\n",
    "\n",
    "csv_path = run_experiment_batch(\n",
    "    solvers_config={\n",
    "        ExactCoverQuantumSolver: [\"simple\", \"pattern\"]  # 2 encodings\n",
    "    },\n",
    "    backends=[\"simulator\"],  # Just simulator for demo\n",
    "    puzzle_sizes=[2],        # 4x4 puzzles only  \n",
    "    missing_cells=[3, 5],    # 2 difficulty levels\n",
    "    samples_per_combo=2,     # 2 puzzle samples per combination\n",
    "    csv_path=\"demo_experiment.csv\",\n",
    "    cache_base=\"./demo_cache\"\n",
    ")\n",
    "\n",
    "print(f\"\\nExperiment completed! Results saved to: {csv_path}\")"
   ]
  },
  {
   "cell_type": "code",
   "execution_count": null,
   "id": "9eb6bea1",
   "metadata": {},
   "outputs": [],
   "source": [
    "# Let's examine the results\n",
    "import pandas as pd\n",
    "import os\n",
    "\n",
    "if os.path.exists(\"demo_experiment.csv\"):\n",
    "    df = pd.read_csv(\"demo_experiment.csv\")\n",
    "    \n",
    "    print(f\"Experiment generated {len(df)} CSV rows\")\n",
    "    print(f\"Columns: {list(df.columns)}\")\n",
    "    \n",
    "    print(f\"\\nBreakdown by solver and encoding:\")\n",
    "    breakdown = df.groupby(['solver_name', 'encoding']).size()\n",
    "    print(breakdown)\n",
    "    \n",
    "    print(f\"\\nSample of circuit resources:\")\n",
    "    resource_cols = ['main_n_qubits', 'main_n_gates', 'main_depth']\n",
    "    available_cols = [col for col in resource_cols if col in df.columns]\n",
    "    if available_cols:\n",
    "        print(df[['solver_name', 'encoding'] + available_cols].head())\n",
    "    \n",
    "    print(f\"\\nAny errors encountered:\")\n",
    "    if 'error' in df.columns:\n",
    "        errors = df[df['error'].notna()]\n",
    "        if len(errors) > 0:\n",
    "            print(f\"Found {len(errors)} errors\")\n",
    "            print(errors[['solver_name', 'encoding', 'error']].head())\n",
    "        else:\n",
    "            print(\"No errors found - all experiments succeeded!\")\n",
    "    \n",
    "else:\n",
    "    print(\"CSV file not found - experiment may not have completed\")"
   ]
  },
  {
   "cell_type": "markdown",
   "id": "8fd760f8",
   "metadata": {},
   "source": [
    "## What Just Happened?\n",
    "\n",
    "The `ExperimentRunner` systematically tested:\n",
    "\n",
    "- **2 solver encodings** (simple, pattern)\n",
    "- **2 puzzle difficulties** (3 and 5 missing cells)  \n",
    "- **2 samples per combination** (for statistical reliability)\n",
    "- **1 backend** (simulator)\n",
    "\n",
    "This generated **8 total CSV rows**:\n",
    "- 4 puzzles × 2 encodings × 1 main circuit row each = 8 rows\n",
    "\n",
    "Each row contains:\n",
    "- Puzzle metadata (size, missing cells, hash)\n",
    "- Solver configuration (name, encoding) \n",
    "- Circuit resources (qubits, gates, depth)\n",
    "- Any errors encountered\n",
    "\n",
    "## Key Benefits\n",
    "\n",
    "1. **Systematic**: Tests all parameter combinations\n",
    "2. **Robust**: Continues even if individual experiments fail\n",
    "3. **Comprehensive**: Logs everything to CSV for analysis\n",
    "4. **Memory-safe**: Automatic cleanup prevents memory leaks\n",
    "5. **Progress tracking**: Real-time updates during long runs\n",
    "\n",
    "## Next Steps\n",
    "\n",
    "For real research, you might run:\n",
    "```python\n",
    "run_experiment_batch(\n",
    "    solvers_config={\n",
    "        ExactCoverQuantumSolver: [\"simple\", \"pattern\", \"optimized\"],\n",
    "        GraphColoringQuantumSolver: [\"basic\", \"advanced\"]\n",
    "    },\n",
    "    backends=[\"ibm_brisbane\", \"ibm_kyoto\", \"simulator\"],\n",
    "    puzzle_sizes=[2, 3],  # 4x4 and 9x9\n",
    "    missing_cells=[3, 5, 7, 10],\n",
    "    samples_per_combo=20,  # More statistical samples\n",
    "    opt_levels=[0, 1, 2, 3]  # Test transpilation optimization\n",
    ")\n",
    "```\n",
    "\n",
    "This would generate hundreds of data points for comprehensive analysis!"
   ]
  }
 ],
 "metadata": {
  "kernelspec": {
   "display_name": "sudoku-nisq-benchmark-2SsA3Mjc-py3.10",
   "language": "python",
   "name": "python3"
  },
  "language_info": {
   "codemirror_mode": {
    "name": "ipython",
    "version": 3
   },
   "file_extension": ".py",
   "mimetype": "text/x-python",
   "name": "python",
   "nbconvert_exporter": "python",
   "pygments_lexer": "ipython3",
   "version": "3.10.12"
  }
 },
 "nbformat": 4,
 "nbformat_minor": 5
}
