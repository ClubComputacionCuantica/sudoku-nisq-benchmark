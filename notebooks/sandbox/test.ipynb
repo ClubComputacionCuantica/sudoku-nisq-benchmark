{
 "cells": [
  {
   "cell_type": "code",
   "execution_count": 1,
   "id": "a810e3c7",
   "metadata": {},
   "outputs": [],
   "source": [
    "from sudoku_nisq import Sudoku"
   ]
  },
  {
   "cell_type": "code",
   "execution_count": 2,
   "id": "34351a35",
   "metadata": {},
   "outputs": [],
   "source": [
    "sudoku = Sudoku(subgrid_size=2,num_missing_cells=8)"
   ]
  },
  {
   "cell_type": "code",
   "execution_count": 3,
   "id": "24020bc1",
   "metadata": {},
   "outputs": [],
   "source": [
    "sudoku.init_exactcover(simple=True,pattern=False)"
   ]
  },
  {
   "cell_type": "code",
   "execution_count": 4,
   "id": "e27c727a",
   "metadata": {},
   "outputs": [
    {
     "data": {
      "text/plain": [
       "{'n_qubits': 143,\n",
       " 'MCX_gates': 69700,\n",
       " 'n_gates': 75416,\n",
       " 'depth': None,\n",
       " 'error': None}"
      ]
     },
     "execution_count": 4,
     "metadata": {},
     "output_type": "execute_result"
    }
   ],
   "source": [
    "sudoku.exact.resource_estimation()"
   ]
  },
  {
   "cell_type": "code",
   "execution_count": 5,
   "id": "508188b9",
   "metadata": {},
   "outputs": [
    {
     "data": {
      "text/plain": [
       "98630"
      ]
     },
     "execution_count": 5,
     "metadata": {},
     "output_type": "execute_result"
    }
   ],
   "source": [
    "sudoku.exact.get_circuit()\n",
    "sudoku.exact.main_circuit.n_gates"
   ]
  }
 ],
 "metadata": {
  "kernelspec": {
   "display_name": "sudoku-nisq-benchmark-2SsA3Mjc-py3.10",
   "language": "python",
   "name": "python3"
  },
  "language_info": {
   "codemirror_mode": {
    "name": "ipython",
    "version": 3
   },
   "file_extension": ".py",
   "mimetype": "text/x-python",
   "name": "python",
   "nbconvert_exporter": "python",
   "pygments_lexer": "ipython3",
   "version": "3.10.12"
  }
 },
 "nbformat": 4,
 "nbformat_minor": 5
}
