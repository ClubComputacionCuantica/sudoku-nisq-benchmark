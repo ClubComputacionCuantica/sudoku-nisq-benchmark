{
 "cells": [
  {
   "cell_type": "code",
   "execution_count": 1,
   "id": "a810e3c7",
   "metadata": {},
   "outputs": [],
   "source": [
    "from sudoku_nisq import ExactCoverQuantumSolver"
   ]
  },
  {
   "cell_type": "code",
   "execution_count": null,
   "id": "34351a35",
   "metadata": {},
   "outputs": [],
   "source": [
    "instance = ExactCoverQuantumSolver("
   ]
  }
 ],
 "metadata": {
  "kernelspec": {
   "display_name": "sudoku-nisq-benchmark-2SsA3Mjc-py3.10",
   "language": "python",
   "name": "python3"
  },
  "language_info": {
   "codemirror_mode": {
    "name": "ipython",
    "version": 3
   },
   "file_extension": ".py",
   "mimetype": "text/x-python",
   "name": "python",
   "nbconvert_exporter": "python",
   "pygments_lexer": "ipython3",
   "version": "3.10.12"
  }
 },
 "nbformat": 4,
 "nbformat_minor": 5
}
