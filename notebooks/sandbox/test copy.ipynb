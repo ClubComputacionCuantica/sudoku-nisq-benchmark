{
 "cells": [
  {
   "cell_type": "code",
   "execution_count": 2,
   "id": "a810e3c7",
   "metadata": {},
   "outputs": [],
   "source": [
    "from sudoku_nisq import Sudoku"
   ]
  },
  {
   "cell_type": "code",
   "execution_count": 3,
   "id": "34351a35",
   "metadata": {},
   "outputs": [],
   "source": [
    "sudoku = Sudoku(subgrid_size=2,num_missing_cells=2)"
   ]
  },
  {
   "cell_type": "code",
   "execution_count": 4,
   "id": "24020bc1",
   "metadata": {},
   "outputs": [
    {
     "name": "stderr",
     "output_type": "stream",
     "text": [
      "2025-07-11 17:26:37,148 INFO sudoku_nisq.quantum_solver: QuantumSolver initialized successfully\n"
     ]
    }
   ],
   "source": [
    "sudoku.init_exactcover(simple=True,pattern=False)"
   ]
  },
  {
   "cell_type": "code",
   "execution_count": 5,
   "id": "f929d9ea",
   "metadata": {},
   "outputs": [
    {
     "name": "stderr",
     "output_type": "stream",
     "text": [
      "2025-07-11 17:26:37,174 INFO sudoku_nisq.quantum_solver: Execution cache cleared\n",
      "2025-07-11 17:26:37,176 INFO sudoku_nisq.quantum_solver: Transpilation cache cleared\n",
      "2025-07-11 17:26:37,180 INFO sudoku_nisq.quantum_solver: Compiled circuit cache cleared\n",
      "2025-07-11 17:26:37,181 INFO sudoku_nisq.quantum_solver: Main circuit cache cleared\n"
     ]
    }
   ],
   "source": [
    "sudoku.exact.clear_cache()"
   ]
  },
  {
   "cell_type": "code",
   "execution_count": 6,
   "id": "39d6d994",
   "metadata": {},
   "outputs": [
    {
     "name": "stderr",
     "output_type": "stream",
     "text": [
      "2025-07-11 17:26:37,206 INFO sudoku_nisq.quantum_solver: Building main circuit for ExactCoverQuantumSolver/c7f92390fcf0c3dd6f97e52b03c1f9288cbe35af1e591297a8bb59b63efd3e1b...\n"
     ]
    },
    {
     "ename": "TypeError",
     "evalue": "write() argument must be str, not dict",
     "output_type": "error",
     "traceback": [
      "\u001b[0;31m---------------------------------------------------------------------------\u001b[0m",
      "\u001b[0;31mTypeError\u001b[0m                                 Traceback (most recent call last)",
      "Cell \u001b[0;32mIn[6], line 1\u001b[0m\n\u001b[0;32m----> 1\u001b[0m \u001b[43msudoku\u001b[49m\u001b[38;5;241;43m.\u001b[39;49m\u001b[43mexact\u001b[49m\u001b[38;5;241;43m.\u001b[39;49m\u001b[43mrun_aer\u001b[49m\u001b[43m(\u001b[49m\u001b[43m)\u001b[49m\n",
      "File \u001b[0;32m~/sudoku-nisq-benchmark-article/src/sudoku_nisq/quantum_solver.py:992\u001b[0m, in \u001b[0;36mQuantumSolver.run_aer\u001b[0;34m(self, shots, force_run)\u001b[0m\n\u001b[1;32m    978\u001b[0m \u001b[38;5;250m\u001b[39m\u001b[38;5;124;03m\"\"\"\u001b[39;00m\n\u001b[1;32m    979\u001b[0m \u001b[38;5;124;03mExecute the quantum circuit using the Aer simulator backend, without transpilation or optimisation.\u001b[39;00m\n\u001b[1;32m    980\u001b[0m \n\u001b[0;32m   (...)\u001b[0m\n\u001b[1;32m    989\u001b[0m \u001b[38;5;124;03m    ValueError: If arguments are invalid.\u001b[39;00m\n\u001b[1;32m    990\u001b[0m \u001b[38;5;124;03m\"\"\"\u001b[39;00m\n\u001b[1;32m    991\u001b[0m \u001b[38;5;66;03m# Ensure main circuit is available and flattened\u001b[39;00m\n\u001b[0;32m--> 992\u001b[0m main_circuit \u001b[38;5;241m=\u001b[39m \u001b[38;5;28;43mself\u001b[39;49m\u001b[38;5;241;43m.\u001b[39;49m\u001b[43m_get_or_build_main_circuit\u001b[49m\u001b[43m(\u001b[49m\u001b[43m)\u001b[49m\n\u001b[1;32m    993\u001b[0m \u001b[38;5;28;01mif\u001b[39;00m \u001b[38;5;129;01mnot\u001b[39;00m \u001b[38;5;28mself\u001b[39m\u001b[38;5;241m.\u001b[39mflattened:\n\u001b[1;32m    994\u001b[0m     \u001b[38;5;28mself\u001b[39m\u001b[38;5;241m.\u001b[39mflatten_registers()\n",
      "File \u001b[0;32m~/sudoku-nisq-benchmark-article/src/sudoku_nisq/quantum_solver.py:739\u001b[0m, in \u001b[0;36mQuantumSolver._get_or_build_main_circuit\u001b[0;34m(self, force)\u001b[0m\n\u001b[1;32m    737\u001b[0m     save_path \u001b[38;5;241m=\u001b[39m \u001b[38;5;28mself\u001b[39m\u001b[38;5;241m.\u001b[39m_main_circuit_cache_path(create_dirs\u001b[38;5;241m=\u001b[39m\u001b[38;5;28;01mTrue\u001b[39;00m)\n\u001b[1;32m    738\u001b[0m     \u001b[38;5;28;01mwith\u001b[39;00m \u001b[38;5;28mopen\u001b[39m(save_path, \u001b[38;5;124m\"\u001b[39m\u001b[38;5;124mw\u001b[39m\u001b[38;5;124m\"\u001b[39m) \u001b[38;5;28;01mas\u001b[39;00m f:\n\u001b[0;32m--> 739\u001b[0m         \u001b[43mf\u001b[49m\u001b[38;5;241;43m.\u001b[39;49m\u001b[43mwrite\u001b[49m\u001b[43m(\u001b[49m\u001b[43mcircuit\u001b[49m\u001b[38;5;241;43m.\u001b[39;49m\u001b[43mto_dict\u001b[49m\u001b[43m(\u001b[49m\u001b[43m)\u001b[49m\u001b[43m)\u001b[49m  \u001b[38;5;66;03m# Assuming Circuit has a to_dict() method\u001b[39;00m\n\u001b[1;32m    740\u001b[0m     log\u001b[38;5;241m.\u001b[39minfo(\u001b[38;5;124mf\u001b[39m\u001b[38;5;124m\"\u001b[39m\u001b[38;5;124mSaved main circuit to disk cache: \u001b[39m\u001b[38;5;132;01m{\u001b[39;00msave_path\u001b[38;5;132;01m}\u001b[39;00m\u001b[38;5;124m\"\u001b[39m)\n\u001b[1;32m    741\u001b[0m \u001b[38;5;28;01mexcept\u001b[39;00m \u001b[38;5;167;01mIOError\u001b[39;00m \u001b[38;5;28;01mas\u001b[39;00m e:\n",
      "\u001b[0;31mTypeError\u001b[0m: write() argument must be str, not dict"
     ]
    }
   ],
   "source": [
    "sudoku.exact.run_aer()"
   ]
  },
  {
   "cell_type": "code",
   "execution_count": null,
   "id": "c483240a",
   "metadata": {},
   "outputs": [],
   "source": []
  }
 ],
 "metadata": {
  "kernelspec": {
   "display_name": "sudoku-nisq-benchmark-ZK-5IsAG-py3.10",
   "language": "python",
   "name": "python3"
  },
  "language_info": {
   "codemirror_mode": {
    "name": "ipython",
    "version": 3
   },
   "file_extension": ".py",
   "mimetype": "text/x-python",
   "name": "python",
   "nbconvert_exporter": "python",
   "pygments_lexer": "ipython3",
   "version": "3.10.12"
  }
 },
 "nbformat": 4,
 "nbformat_minor": 5
}
